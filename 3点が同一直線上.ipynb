{
 "cells": [
  {
   "cell_type": "code",
   "execution_count": 24,
   "metadata": {},
   "outputs": [
    {
     "name": "stdin",
     "output_type": "stream",
     "text": [
      " 2\n",
      " 1 2\n",
      " 2 3\n"
     ]
    }
   ],
   "source": [
    "import numpy as np\n",
    "N = int(input())\n",
    "P = [list(map(int,input().split())) for n in range(N)]"
   ]
  },
  {
   "cell_type": "code",
   "execution_count": 28,
   "metadata": {},
   "outputs": [],
   "source": [
    "nums = []\n",
    "\n",
    "for i in range(N):\n",
    "    for j in range(N):\n",
    "        if i == j:\n",
    "            continue\n",
    "        nums.append((P[i],P[j]))"
   ]
  },
  {
   "cell_type": "code",
   "execution_count": 29,
   "metadata": {},
   "outputs": [
    {
     "data": {
      "text/plain": [
       "[([1, 2], [2, 3]), ([2, 3], [1, 2])]"
      ]
     },
     "execution_count": 29,
     "metadata": {},
     "output_type": "execute_result"
    }
   ],
   "source": [
    "nums"
   ]
  },
  {
   "cell_type": "code",
   "execution_count": null,
   "metadata": {},
   "outputs": [],
   "source": [
    "N = int(input())\n",
    "xy = [list(map(int, input().split())) for _ in range(N)]\n",
    " \n",
    "res = 'No'\n",
    "for i in range(N-2):\n",
    "    for j in range(i+1, N-1):\n",
    "        for k in range(j+1, N):\n",
    "            if xy[j][1] == xy[i][1]:\n",
    "                if xy[k][1] == xy[j][1]:\n",
    "                    res = 'Yes'\n",
    "            elif xy[j][0] == xy[i][0]:\n",
    "                if xy[k][0] == xy[j][0]:\n",
    "                    res = 'Yes'\n",
    "            else:\n",
    "                a1 = xy[j][1]-xy[i][1]\n",
    "                a2 = xy[j][0]-xy[i][0]\n",
    "                a = a1 / a2\n",
    "                b = (-xy[i][0]*a) + xy[i][1]\n",
    "                \n",
    "                if xy[k][1] == (a*xy[k][0])+b:\n",
    "                    res = 'Yes'\n",
    "                    \n",
    "#             print(xy[i],xy[j],xy[k])\n",
    "                \n",
    "print(res)"
   ]
  },
  {
   "cell_type": "code",
   "execution_count": null,
   "metadata": {},
   "outputs": [],
   "source": []
  }
 ],
 "metadata": {
  "kernelspec": {
   "display_name": "Python 3",
   "language": "python",
   "name": "python3"
  },
  "language_info": {
   "codemirror_mode": {
    "name": "ipython",
    "version": 3
   },
   "file_extension": ".py",
   "mimetype": "text/x-python",
   "name": "python",
   "nbconvert_exporter": "python",
   "pygments_lexer": "ipython3",
   "version": "3.8.5"
  }
 },
 "nbformat": 4,
 "nbformat_minor": 4
}
