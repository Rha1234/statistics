{
 "cells": [
  {
   "cell_type": "markdown",
   "metadata": {},
   "source": [
    "## scipy.statsの確率分布を使いこなす\n",
    "* 目的\n",
    "    * ポピュラーな確率分布とそのデータ例を知ること\n",
    "    * ある値(それ自身・以下・以上)をとる確率がいくつか計算できるようになること\n",
    "    * ある確率(それ自身・以下・以上)の値がいくつか計算できるようになること\n",
    "    * 標本分布から母集団分布を推測して予測値を出すことができるようになること"
   ]
  },
  {
   "cell_type": "markdown",
   "metadata": {},
   "source": [
    "## scipy.stats.(確率分布).(メソッド)\n",
    "* 使い方は大体共通\n",
    "* メソッドは主要なものを覚える\n",
    "* ここで確率分布は最もポピュラーな正規分布(norm)を用いる"
   ]
  },
  {
   "cell_type": "code",
   "execution_count": 1,
   "metadata": {},
   "outputs": [
    {
     "data": {
      "text/plain": [
       "'%.3f'"
      ]
     },
     "execution_count": 1,
     "metadata": {},
     "output_type": "execute_result"
    }
   ],
   "source": [
    "import numpy as np\n",
    "from scipy import stats\n",
    "import matplotlib.pyplot as plt\n",
    "%matplotlib inline\n",
    "%precision 3"
   ]
  },
  {
   "cell_type": "markdown",
   "metadata": {},
   "source": [
    "## 1. rvs 確率変数"
   ]
  },
  {
   "cell_type": "code",
   "execution_count": null,
   "metadata": {},
   "outputs": [],
   "source": [
    "norm_rvs = stats.norm.rvs(loc=50, scale=20, size=1000, random_state=0)"
   ]
  }
 ],
 "metadata": {
  "kernelspec": {
   "display_name": "Python 3",
   "language": "python",
   "name": "python3"
  },
  "language_info": {
   "codemirror_mode": {
    "name": "ipython",
    "version": 3
   },
   "file_extension": ".py",
   "mimetype": "text/x-python",
   "name": "python",
   "nbconvert_exporter": "python",
   "pygments_lexer": "ipython3",
   "version": "3.8.5"
  }
 },
 "nbformat": 4,
 "nbformat_minor": 4
}
